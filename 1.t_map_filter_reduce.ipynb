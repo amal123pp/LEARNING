{
 "cells": [
  {
   "cell_type": "markdown",
   "id": "c0fa4362",
   "metadata": {},
   "source": [
    "# map"
   ]
  },
  {
   "cell_type": "markdown",
   "id": "fbcfd2d4",
   "metadata": {},
   "source": [
    "<font color = 'red'> Map function takes two parameter i.e function name and a sequence of iterable values(like list).Taking each value from iterable values and apply it to a function(which performs some task) by passing it as a parameter and returns a sequence of iterable values in the form of map object.which we can explicitly convert it into list. </font>"
   ]
  },
  {
   "attachments": {
    "image.png": {
     "image/png": "[encoded data removed]"
    }
   },
   "cell_type": "markdown",
   "id": "9245c984",
   "metadata": {},
   "source": [
    "![image.png](attachment:image.png)"
   ]
  },
  {
   "cell_type": "markdown",
   "id": "6926b871",
   "metadata": {},
   "source": [
    "###### use case - used if u want to apply the same function for every element in a list <font color='green'>instead of using a for loop</font>\n",
    "example use case:i want to convert all data in rupees to dollars-> map(func_rupee_to_doll,rupee),\n",
    "here rupee is the list of data in rupees which is to be passed to the map to be converted\n",
    "\n",
    "Here map internally take each value from the list and apply it to the function and returns the value.\n",
    "\n"
   ]
  },
  {
   "cell_type": "code",
   "execution_count": 3,
   "id": "efbc2b36",
   "metadata": {},
   "outputs": [
    {
     "name": "stdout",
     "output_type": "stream",
     "text": [
      "[12.56, 78.5, 153.86, 200.96]\n"
     ]
    }
   ],
   "source": [
    "#example- we need to find area of many circles \n",
    "#normal approach\n",
    "areas = []\n",
    "def area(r):\n",
    "    return 3.14*r*r\n",
    "\n",
    "radii = [2,5,7,8]\n",
    "for r in radii:\n",
    "    a = area(r)\n",
    "    areas.append(a)\n",
    "print(areas)"
   ]
  },
  {
   "cell_type": "code",
   "execution_count": 5,
   "id": "d50a42da",
   "metadata": {},
   "outputs": [
    {
     "name": "stdout",
     "output_type": "stream",
     "text": [
      "<class 'map'>\n",
      "[12.56, 78.5, 153.86, 200.96]\n"
     ]
    }
   ],
   "source": [
    "# map function on the similar logic\n",
    "def area(r):  #function name - area\n",
    "    return 3.14*r*r\n",
    "radii = [2,5,7,8]\n",
    "l = (map(area,radii)) # create a map object ..very useful  \n",
    "print(type(l))\n",
    "a = list(map(area,radii)) #map is converted to a list\n",
    "print(a)"
   ]
  },
  {
   "cell_type": "markdown",
   "id": "26bf14fa",
   "metadata": {},
   "source": [
    "EXAMPLE -2 CONVERT UNITS"
   ]
  },
  {
   "cell_type": "code",
   "execution_count": 19,
   "id": "7c5ab4f5",
   "metadata": {},
   "outputs": [
    {
     "name": "stdout",
     "output_type": "stream",
     "text": [
      "[('berlin', 84.2), ('cairo', 96.8), ('buenos aires', 66.2), ('los angeles', 78.80000000000001), ('tokyo', 80.6), ('new york', 82.4)]\n"
     ]
    }
   ],
   "source": [
    "temps = [('berlin',29),('cairo',36),('buenos aires',19),('los angeles',26),('tokyo',27),('new york',28)]\n",
    "\n",
    "#data is the parameter to the lambda function\n",
    "# the function returns a tuple (temps[0],temps[1]),where temps[1] has the converted value of the temperature\n",
    "c_to_f = lambda data: (data[0],(9/5)*data[1]+32) #lambda function \n",
    "\n",
    "z = (list(map(c_to_f,temps)))\n",
    "print(z)\n"
   ]
  },
  {
   "cell_type": "code",
   "execution_count": null,
   "id": "9f6a6d9f",
   "metadata": {},
   "outputs": [],
   "source": []
  },
  {
   "cell_type": "code",
   "execution_count": null,
   "id": "2c7e8530",
   "metadata": {},
   "outputs": [],
   "source": []
  },
  {
   "cell_type": "markdown",
   "id": "f0b36001",
   "metadata": {},
   "source": [
    "# filter"
   ]
  },
  {
   "cell_type": "markdown",
   "id": "b57939b6",
   "metadata": {},
   "source": [
    "<font color = 'red'>Filter function also takes two parameters i.e function name and sequence of iterable values(like list).This function is really useful when you want to filter the data present in the list(sequence of iterable values) based on the conditions. </font>"
   ]
  },
  {
   "attachments": {
    "image.png": {
     "image/png": "[encoded data removed]"
    }
   },
   "cell_type": "markdown",
   "id": "2a7daa50",
   "metadata": {},
   "source": [
    "![image.png](attachment:image.png)"
   ]
  },
  {
   "cell_type": "markdown",
   "id": "4f636886",
   "metadata": {},
   "source": [
    "use case: we need to proceed only with the even values \n",
    "\n",
    "filters the data you dont need\n",
    "\n",
    "use case: find all the data above average values\n"
   ]
  },
  {
   "cell_type": "markdown",
   "id": "c5599ac3",
   "metadata": {},
   "source": [
    "EXAMPLE 1 - FIND NUMBERS ABOVE AVERAGE "
   ]
  },
  {
   "cell_type": "code",
   "execution_count": 20,
   "id": "7c3f09b4",
   "metadata": {},
   "outputs": [
    {
     "name": "stdout",
     "output_type": "stream",
     "text": [
      "[2.7, 4.1, 4.3]\n"
     ]
    }
   ],
   "source": [
    "import numpy as np\n",
    "data = [1.3,2.7,0.8,4.1,4.3,-0.1]\n",
    "average = np.mean(data)\n",
    "filter(lambda x:x>average,data) \n",
    "print(list(filter(lambda x:x>average,data)))"
   ]
  },
  {
   "cell_type": "markdown",
   "id": "4a2964d7",
   "metadata": {},
   "source": [
    "EXAMPLE 2 - FALSE  VALUES"
   ]
  },
  {
   "cell_type": "code",
   "execution_count": 22,
   "id": "7b0f4f07",
   "metadata": {},
   "outputs": [
    {
     "name": "stdout",
     "output_type": "stream",
     "text": [
      "['argentina', 'brazil']\n"
     ]
    }
   ],
   "source": [
    "\n",
    "countries = [\"\",\"argentina\",\"brazil\",0.0]\n",
    "filter(None,countries) #None means false.empty string is treated as False in python\n",
    "#other falses - 0,empty ,0.0,[],(),{},False,None\n",
    "print(list(filter(None,countries)))\n",
    "\n"
   ]
  },
  {
   "cell_type": "code",
   "execution_count": null,
   "id": "b98ea8ae",
   "metadata": {},
   "outputs": [],
   "source": []
  },
  {
   "cell_type": "markdown",
   "id": "9b678dc0",
   "metadata": {},
   "source": [
    "# REDUCE"
   ]
  },
  {
   "cell_type": "markdown",
   "id": "034130d1",
   "metadata": {},
   "source": [
    "##  <font color = 'red'>not so useful-applies a function to 2 values,and the result with the next value </font>\n",
    "use case: multiply all numbers in a list"
   ]
  },
  {
   "cell_type": "code",
   "execution_count": null,
   "id": "68dab506",
   "metadata": {},
   "outputs": [],
   "source": [
    "#but 99% of times a for loop is more readable\n",
    "#currently moved to functools module\n",
    "#applies a function to 2 values,and the result with the next value\n",
    "#use case: multiply all numbers in a list\n",
    "\n",
    "data = [1,2,3,4,5,6]\n",
    "import functools\n",
    "multiplier = (lambda x,y:x*y)  #x and y are the parameters\n",
    "print(functools.reduce(multiplier,data))"
   ]
  }
 ],
 "metadata": {
  "kernelspec": {
   "display_name": "Python 3.8 (XPython)",
   "language": "python",
   "name": "xpython"
  },
  "language_info": {
   "file_extension": ".py",
   "mimetype": "text/x-python",
   "name": "python",
   "version": "3.8.10"
  }
 },
 "nbformat": 4,
 "nbformat_minor": 5
}
