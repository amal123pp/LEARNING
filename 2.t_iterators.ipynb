{
 "cells": [
  {
   "cell_type": "markdown",
   "id": "d89fa0b6",
   "metadata": {},
   "source": [
    "# iter method"
   ]
  },
  {
   "cell_type": "code",
   "execution_count": 2,
   "id": "d36f6a0e",
   "metadata": {},
   "outputs": [
    {
     "name": "stdout",
     "output_type": "stream",
     "text": [
      "a\n",
      "bro\n",
      "awesome\n",
      "wow\n"
     ]
    }
   ],
   "source": [
    "a = ['a','bro','awesome','wow']\n",
    "for i in a :\n",
    "    print(i) #internally this goes through elements one by one ->iterating\n",
    "    #internally it uses iter"
   ]
  },
  {
   "cell_type": "code",
   "execution_count": 3,
   "id": "584a563f",
   "metadata": {},
   "outputs": [
    {
     "data": {
      "text/plain": [
       "['__add__',\n",
       " '__class__',\n",
       " '__contains__',\n",
       " '__delattr__',\n",
       " '__delitem__',\n",
       " '__dir__',\n",
       " '__doc__',\n",
       " '__eq__',\n",
       " '__format__',\n",
       " '__ge__',\n",
       " '__getattribute__',\n",
       " '__getitem__',\n",
       " '__gt__',\n",
       " '__hash__',\n",
       " '__iadd__',\n",
       " '__imul__',\n",
       " '__init__',\n",
       " '__init_subclass__',\n",
       " '__iter__',\n",
       " '__le__',\n",
       " '__len__',\n",
       " '__lt__',\n",
       " '__mul__',\n",
       " '__ne__',\n",
       " '__new__',\n",
       " '__reduce__',\n",
       " '__reduce_ex__',\n",
       " '__repr__',\n",
       " '__reversed__',\n",
       " '__rmul__',\n",
       " '__setattr__',\n",
       " '__setitem__',\n",
       " '__sizeof__',\n",
       " '__str__',\n",
       " '__subclasshook__',\n",
       " 'append',\n",
       " 'clear',\n",
       " 'copy',\n",
       " 'count',\n",
       " 'extend',\n",
       " 'index',\n",
       " 'insert',\n",
       " 'pop',\n",
       " 'remove',\n",
       " 'reverse',\n",
       " 'sort']"
      ]
     },
     "execution_count": 3,
     "metadata": {},
     "output_type": "execute_result"
    }
   ],
   "source": [
    "dir(a)# '__iter__'"
   ]
  },
  {
   "cell_type": "code",
   "execution_count": 4,
   "id": "af69350a",
   "metadata": {},
   "outputs": [
    {
     "data": {
      "text/plain": [
       "<list_iterator at 0x1bd256c85e0>"
      ]
     },
     "execution_count": 4,
     "metadata": {},
     "output_type": "execute_result"
    }
   ],
   "source": [
    "itr = iter(a)\n",
    "itr"
   ]
  },
  {
   "cell_type": "markdown",
   "id": "277e62a6",
   "metadata": {},
   "source": [
    "the for loop is literally calling the next method on the itr object"
   ]
  },
  {
   "cell_type": "code",
   "execution_count": 5,
   "id": "2b056e52",
   "metadata": {},
   "outputs": [
    {
     "data": {
      "text/plain": [
       "'a'"
      ]
     },
     "execution_count": 5,
     "metadata": {},
     "output_type": "execute_result"
    }
   ],
   "source": [
    "#using the iterator object ,we can go the next element\n",
    "next(itr)"
   ]
  },
  {
   "cell_type": "code",
   "execution_count": 6,
   "id": "28bb8ba4",
   "metadata": {},
   "outputs": [
    {
     "data": {
      "text/plain": [
       "'bro'"
      ]
     },
     "execution_count": 6,
     "metadata": {},
     "output_type": "execute_result"
    }
   ],
   "source": [
    "next(itr)"
   ]
  },
  {
   "cell_type": "code",
   "execution_count": 7,
   "id": "0dfea139",
   "metadata": {},
   "outputs": [
    {
     "data": {
      "text/plain": [
       "'awesome'"
      ]
     },
     "execution_count": 7,
     "metadata": {},
     "output_type": "execute_result"
    }
   ],
   "source": [
    "next(itr)"
   ]
  },
  {
   "cell_type": "code",
   "execution_count": 8,
   "id": "8093d696",
   "metadata": {},
   "outputs": [
    {
     "data": {
      "text/plain": [
       "'wow'"
      ]
     },
     "execution_count": 8,
     "metadata": {},
     "output_type": "execute_result"
    }
   ],
   "source": [
    "next(itr)"
   ]
  },
  {
   "cell_type": "code",
   "execution_count": 9,
   "id": "927e3312",
   "metadata": {},
   "outputs": [
    {
     "ename": "StopIteration",
     "evalue": "",
     "output_type": "error",
     "traceback": [
      "\u001b[0;31m---------------------------------------------------------------------------\u001b[0m\n\u001b[0;31mStopIteration\u001b[0m                             Traceback (most recent call last)",
      "File \u001b[0;34mC:\\Users\\hp\\anaconda3\\lib\\site-packages\\IPython\\core\\interactiveshell.py\u001b[0m, in \u001b[0;32mrun_code\u001b[0m:\nLine \u001b[0;34m3437\u001b[0m:  exec(code_obj, \u001b[36mself\u001b[39;49;00m.user_global_ns, \u001b[36mself\u001b[39;49;00m.user_ns)\n",
      "In  \u001b[0;34m[9]\u001b[0m:\nLine \u001b[0;34m1\u001b[0m:     \u001b[36mnext\u001b[39;49;00m(itr)\n",
      "\u001b[0;31mStopIteration\u001b[0m: \n\u001b[0;31m---------------------------------------------------------------------------\u001b[0m"
     ]
    }
   ],
   "source": [
    "#stops when the iterator ends\n",
    "next(itr)"
   ]
  },
  {
   "cell_type": "code",
   "execution_count": 10,
   "id": "357e65f5",
   "metadata": {},
   "outputs": [
    {
     "data": {
      "text/plain": [
       "['__class__',\n",
       " '__delattr__',\n",
       " '__dir__',\n",
       " '__doc__',\n",
       " '__eq__',\n",
       " '__format__',\n",
       " '__ge__',\n",
       " '__getattribute__',\n",
       " '__gt__',\n",
       " '__hash__',\n",
       " '__init__',\n",
       " '__init_subclass__',\n",
       " '__iter__',\n",
       " '__le__',\n",
       " '__length_hint__',\n",
       " '__lt__',\n",
       " '__ne__',\n",
       " '__new__',\n",
       " '__next__',\n",
       " '__reduce__',\n",
       " '__reduce_ex__',\n",
       " '__repr__',\n",
       " '__setattr__',\n",
       " '__setstate__',\n",
       " '__sizeof__',\n",
       " '__str__',\n",
       " '__subclasshook__']"
      ]
     },
     "execution_count": 10,
     "metadata": {},
     "output_type": "execute_result"
    }
   ],
   "source": [
    "dir(itr)  #__next__"
   ]
  },
  {
   "cell_type": "code",
   "execution_count": null,
   "id": "6f427f1e",
   "metadata": {},
   "outputs": [],
   "source": []
  },
  {
   "cell_type": "markdown",
   "id": "f3243746",
   "metadata": {},
   "source": [
    "reverse iterator"
   ]
  },
  {
   "cell_type": "code",
   "execution_count": 12,
   "id": "f988259e",
   "metadata": {},
   "outputs": [],
   "source": [
    "itr = reversed(a)"
   ]
  },
  {
   "cell_type": "code",
   "execution_count": 13,
   "id": "db4aa1e6",
   "metadata": {},
   "outputs": [
    {
     "data": {
      "text/plain": [
       "'wow'"
      ]
     },
     "execution_count": 13,
     "metadata": {},
     "output_type": "execute_result"
    }
   ],
   "source": [
    "next(itr)  #last element,iterating in a reverse order"
   ]
  },
  {
   "cell_type": "code",
   "execution_count": null,
   "id": "aa52c632",
   "metadata": {},
   "outputs": [],
   "source": []
  },
  {
   "cell_type": "markdown",
   "id": "806ef7a7",
   "metadata": {},
   "source": [
    "excercise - implement next button in a remote control"
   ]
  },
  {
   "cell_type": "code",
   "execution_count": 26,
   "id": "750f0f86",
   "metadata": {},
   "outputs": [
    {
     "name": "stdout",
     "output_type": "stream",
     "text": [
      "hbo\n",
      "cnn\n",
      "abc\n",
      "espn\n",
      "exception occured <class 'StopIteration'>\n"
     ]
    }
   ],
   "source": [
    "class RemoteControl:\n",
    "    def __init__(self):\n",
    "        self.channels = ['hbo','cnn','abc','espn']\n",
    "        self.index = -1  # which index are you on now -> -1 implies tv is off\n",
    "        \n",
    "    def __iter__(self): # built in method\n",
    "        return self   # returns the iter object to the itr variable  who calls this\n",
    "    \n",
    "    def __next__(self): #whenever u have iterator object,you need next to be implemented\n",
    "        self.index+=1\n",
    "        if self.index == len(self.channels):\n",
    "            raise StopIteration   #standard procedure for iterators to stop iteration on reaching the end\n",
    "        return self.channels[self.index] # return the channel\n",
    "    \n",
    "r = RemoteControl()\n",
    "itr = iter(r) #iter is std iterator object   #same as __iter__ . the remote control object is passed to iter,recieves iterator\n",
    "try:       #i just tried exception\n",
    "    print(next(itr))\n",
    "    print(next(itr))\n",
    "    print(next(itr))\n",
    "    print(next(itr))\n",
    "    print(next(itr))\n",
    "except Exception as e:  #here e is the class\n",
    "    print('exception occured',type(e))"
   ]
  },
  {
   "cell_type": "code",
   "execution_count": 31,
   "id": "dd98a273",
   "metadata": {},
   "outputs": [
    {
     "name": "stdout",
     "output_type": "stream",
     "text": [
      "list index out of range\n"
     ]
    }
   ],
   "source": [
    "try:       \n",
    "    print(next(itr))\n",
    "    print(next(itr))\n",
    "    print(next(itr))\n",
    "    print(next(itr))\n",
    "    print(next(itr))\n",
    "except IndexError as e: #here e is specific\n",
    "    print(e)"
   ]
  },
  {
   "cell_type": "code",
   "execution_count": null,
   "id": "6c65e356",
   "metadata": {},
   "outputs": [],
   "source": []
  }
 ],
 "metadata": {
  "kernelspec": {
   "display_name": "Python 3.8 (XPython)",
   "language": "python",
   "name": "xpython"
  },
  "language_info": {
   "file_extension": ".py",
   "mimetype": "text/x-python",
   "name": "python",
   "version": "3.8.10"
  }
 },
 "nbformat": 4,
 "nbformat_minor": 5
}
